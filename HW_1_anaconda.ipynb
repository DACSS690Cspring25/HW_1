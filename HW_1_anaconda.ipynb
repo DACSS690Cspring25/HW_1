{
 "cells": [
  {
   "cell_type": "markdown",
   "metadata": {
    "id": "vpPHz51Q8JHj"
   },
   "source": [
    "If you have decided to complete the previous homework, you do not need to do this one.\n",
    "\n",
    "If you decide to do this homework, make a copy of this notebook into your own GoogleDrive, and proceed.\n",
    "\n",
    "# 1. Previous steps before the exercises"
   ]
  },
  {
   "cell_type": "markdown",
   "metadata": {
    "id": "qR4o0ETY8Urb"
   },
   "source": [
    "# 1 The Data"
   ]
  },
  {
   "cell_type": "markdown",
   "metadata": {
    "id": "Q1UNLnPY5UZ4"
   },
   "source": [
    "## 1.1 The MAP for this homework:\n",
    "\n",
    "I am loading a map found originally [here](https://gist.github.com/sdwfrost/d1c73f91dd9d175998ed166eb216994a) with polygons representing USA counties."
   ]
  },
  {
   "cell_type": "code",
   "execution_count": 2,
   "metadata": {
    "colab": {
     "base_uri": "https://localhost:8080/"
    },
    "id": "vsYOnqRE5Bbd",
    "outputId": "7fd20960-677c-4bf3-86bc-e6064eeae3a6"
   },
   "outputs": [
    {
     "name": "stdout",
     "output_type": "stream",
     "text": [
      "<class 'geopandas.geodataframe.GeoDataFrame'>\n",
      "RangeIndex: 3220 entries, 0 to 3219\n",
      "Data columns (total 10 columns):\n",
      " #   Column    Non-Null Count  Dtype   \n",
      "---  ------    --------------  -----   \n",
      " 0   STATEFP   3220 non-null   object  \n",
      " 1   COUNTYFP  3220 non-null   object  \n",
      " 2   COUNTYNS  3220 non-null   object  \n",
      " 3   AFFGEOID  3220 non-null   object  \n",
      " 4   GEOID     3220 non-null   object  \n",
      " 5   NAME      3220 non-null   object  \n",
      " 6   LSAD      3220 non-null   object  \n",
      " 7   ALAND     3220 non-null   int64   \n",
      " 8   AWATER    3220 non-null   int64   \n",
      " 9   geometry  3220 non-null   geometry\n",
      "dtypes: geometry(1), int64(2), object(7)\n",
      "memory usage: 251.7+ KB\n"
     ]
    }
   ],
   "source": [
    "# building the link to GutHub\n",
    "mainFolderGit=\"https://github.com/DACSS-CSSmeths/Spatial-Analytics/raw/refs/heads/main/\"\n",
    "fileMapGit='map/counties.geojson'\n",
    "linkToGitHubMap=mainFolderGit+fileMapGit\n",
    "\n",
    "## reading the data in using GeoPandas:\n",
    "# Added a comment\n",
    "import geopandas as gpd\n",
    "\n",
    "countiesMap = gpd.read_file(linkToGitHubMap)\n",
    "countiesMap.info()"
   ]
  },
  {
   "cell_type": "code",
   "execution_count": 3,
   "metadata": {
    "colab": {
     "base_uri": "https://localhost:8080/"
    },
    "id": "vsYOnqRE5Bbd",
    "outputId": "7fd20960-677c-4bf3-86bc-e6064eeae3a6"
   },
   "outputs": [
    {
     "name": "stdout",
     "output_type": "stream",
     "text": [
      "<class 'geopandas.geodataframe.GeoDataFrame'>\n",
      "RangeIndex: 3220 entries, 0 to 3219\n",
      "Data columns (total 10 columns):\n",
      " #   Column    Non-Null Count  Dtype   \n",
      "---  ------    --------------  -----   \n",
      " 0   STATEFP   3220 non-null   object  \n",
      " 1   COUNTYFP  3220 non-null   object  \n",
      " 2   COUNTYNS  3220 non-null   object  \n",
      " 3   AFFGEOID  3220 non-null   object  \n",
      " 4   GEOID     3220 non-null   object  \n",
      " 5   NAME      3220 non-null   object  \n",
      " 6   LSAD      3220 non-null   object  \n",
      " 7   ALAND     3220 non-null   int64   \n",
      " 8   AWATER    3220 non-null   int64   \n",
      " 9   geometry  3220 non-null   geometry\n",
      "dtypes: geometry(1), int64(2), object(7)\n",
      "memory usage: 251.7+ KB\n"
     ]
    }
   ],
   "source": [
    "# building the link to GutHub\n",
    "mainFolderGit=\"https://github.com/DACSS-CSSmeths/Spatial-Analytics/raw/refs/heads/main/\"\n",
    "fileMapGit='map/counties.geojson'\n",
    "linkToGitHubMap=mainFolderGit+fileMapGit\n",
    "\n",
    "## reading the data in using GeoPandas:\n",
    "import geopandas as gpd\n",
    "\n",
    "countiesMap = gpd.read_file(linkToGitHubMap)\n",
    "countiesMap.info()"
   ]
  },
  {
   "cell_type": "markdown",
   "metadata": {
    "id": "bW5Xl1k_GPtX"
   },
   "source": [
    "This is only geographic information:"
   ]
  },
  {
   "cell_type": "code",
   "execution_count": 4,
   "metadata": {
    "colab": {
     "base_uri": "https://localhost:8080/",
     "height": 294
    },
    "id": "1HzB9T1fBTUx",
    "outputId": "eb19dc85-85d2-496a-e2a1-6b825b2e674c"
   },
   "outputs": [
    {
     "data": {
      "text/html": [
       "<div>\n",
       "<style scoped>\n",
       "    .dataframe tbody tr th:only-of-type {\n",
       "        vertical-align: middle;\n",
       "    }\n",
       "\n",
       "    .dataframe tbody tr th {\n",
       "        vertical-align: top;\n",
       "    }\n",
       "\n",
       "    .dataframe thead th {\n",
       "        text-align: right;\n",
       "    }\n",
       "</style>\n",
       "<table border=\"1\" class=\"dataframe\">\n",
       "  <thead>\n",
       "    <tr style=\"text-align: right;\">\n",
       "      <th></th>\n",
       "      <th>STATEFP</th>\n",
       "      <th>COUNTYFP</th>\n",
       "      <th>COUNTYNS</th>\n",
       "      <th>AFFGEOID</th>\n",
       "      <th>GEOID</th>\n",
       "      <th>NAME</th>\n",
       "      <th>LSAD</th>\n",
       "      <th>ALAND</th>\n",
       "      <th>AWATER</th>\n",
       "      <th>geometry</th>\n",
       "    </tr>\n",
       "  </thead>\n",
       "  <tbody>\n",
       "    <tr>\n",
       "      <th>0</th>\n",
       "      <td>06</td>\n",
       "      <td>075</td>\n",
       "      <td>00277302</td>\n",
       "      <td>0500000US06075</td>\n",
       "      <td>06075</td>\n",
       "      <td>San Francisco</td>\n",
       "      <td>06</td>\n",
       "      <td>121485107</td>\n",
       "      <td>479107241</td>\n",
       "      <td>POLYGON ((-122.51198 37.77113, -122.4654 37.80...</td>\n",
       "    </tr>\n",
       "    <tr>\n",
       "      <th>1</th>\n",
       "      <td>25</td>\n",
       "      <td>025</td>\n",
       "      <td>00606939</td>\n",
       "      <td>0500000US25025</td>\n",
       "      <td>25025</td>\n",
       "      <td>Suffolk</td>\n",
       "      <td>06</td>\n",
       "      <td>150855462</td>\n",
       "      <td>160479920</td>\n",
       "      <td>POLYGON ((-71.19116 42.28306, -71.15689 42.330...</td>\n",
       "    </tr>\n",
       "    <tr>\n",
       "      <th>2</th>\n",
       "      <td>31</td>\n",
       "      <td>007</td>\n",
       "      <td>00835826</td>\n",
       "      <td>0500000US31007</td>\n",
       "      <td>31007</td>\n",
       "      <td>Banner</td>\n",
       "      <td>06</td>\n",
       "      <td>1932676697</td>\n",
       "      <td>397069</td>\n",
       "      <td>POLYGON ((-104.05283 41.69795, -103.37039 41.6...</td>\n",
       "    </tr>\n",
       "    <tr>\n",
       "      <th>3</th>\n",
       "      <td>37</td>\n",
       "      <td>181</td>\n",
       "      <td>01008591</td>\n",
       "      <td>0500000US37181</td>\n",
       "      <td>37181</td>\n",
       "      <td>Vance</td>\n",
       "      <td>06</td>\n",
       "      <td>653705784</td>\n",
       "      <td>42187365</td>\n",
       "      <td>POLYGON ((-78.49778 36.51448, -78.45728 36.541...</td>\n",
       "    </tr>\n",
       "    <tr>\n",
       "      <th>4</th>\n",
       "      <td>48</td>\n",
       "      <td>421</td>\n",
       "      <td>01383996</td>\n",
       "      <td>0500000US48421</td>\n",
       "      <td>48421</td>\n",
       "      <td>Sherman</td>\n",
       "      <td>06</td>\n",
       "      <td>2390651189</td>\n",
       "      <td>428754</td>\n",
       "      <td>POLYGON ((-102.16246 36.50033, -102.03234 36.5...</td>\n",
       "    </tr>\n",
       "  </tbody>\n",
       "</table>\n",
       "</div>"
      ],
      "text/plain": [
       "  STATEFP COUNTYFP  COUNTYNS        AFFGEOID  GEOID           NAME LSAD  \\\n",
       "0      06      075  00277302  0500000US06075  06075  San Francisco   06   \n",
       "1      25      025  00606939  0500000US25025  25025        Suffolk   06   \n",
       "2      31      007  00835826  0500000US31007  31007         Banner   06   \n",
       "3      37      181  01008591  0500000US37181  37181          Vance   06   \n",
       "4      48      421  01383996  0500000US48421  48421        Sherman   06   \n",
       "\n",
       "        ALAND     AWATER                                           geometry  \n",
       "0   121485107  479107241  POLYGON ((-122.51198 37.77113, -122.4654 37.80...  \n",
       "1   150855462  160479920  POLYGON ((-71.19116 42.28306, -71.15689 42.330...  \n",
       "2  1932676697     397069  POLYGON ((-104.05283 41.69795, -103.37039 41.6...  \n",
       "3   653705784   42187365  POLYGON ((-78.49778 36.51448, -78.45728 36.541...  \n",
       "4  2390651189     428754  POLYGON ((-102.16246 36.50033, -102.03234 36.5...  "
      ]
     },
     "execution_count": 4,
     "metadata": {},
     "output_type": "execute_result"
    }
   ],
   "source": [
    "countiesMap.head()"
   ]
  },
  {
   "cell_type": "markdown",
   "metadata": {
    "id": "4LtZCfNO5aBT"
   },
   "source": [
    "## 1.2 The DATA TABLE for this homework (excel):"
   ]
  },
  {
   "cell_type": "markdown",
   "metadata": {
    "id": "Rr0S7jGe-7XN"
   },
   "source": [
    "This file is originally from this [website](https://www.openintro.org/data/index.php?data=county), I saved it to GitHub:"
   ]
  },
  {
   "cell_type": "code",
   "execution_count": 6,
   "metadata": {
    "colab": {
     "base_uri": "https://localhost:8080/"
    },
    "id": "b9LG3U9D5EIs",
    "outputId": "ba87977e-73fe-43c7-8e15-889f60990a80"
   },
   "outputs": [
    {
     "name": "stdout",
     "output_type": "stream",
     "text": [
      "<class 'pandas.core.frame.DataFrame'>\n",
      "RangeIndex: 3142 entries, 0 to 3141\n",
      "Data columns (total 17 columns):\n",
      " #   Column             Non-Null Count  Dtype  \n",
      "---  ------             --------------  -----  \n",
      " 0   name               3142 non-null   object \n",
      " 1   state              3142 non-null   object \n",
      " 2   COUNTYNS           3142 non-null   object \n",
      " 3   GEOID              3142 non-null   object \n",
      " 4   pop2000            3139 non-null   float64\n",
      " 5   pop2010            3142 non-null   int64  \n",
      " 6   pop2017            3139 non-null   float64\n",
      " 7   pop_change         3139 non-null   float64\n",
      " 8   poverty            3140 non-null   float64\n",
      " 9   homeownership      3142 non-null   float64\n",
      " 10  multi_unit         3142 non-null   float64\n",
      " 11  unemployment_rate  3139 non-null   float64\n",
      " 12  metro              3139 non-null   object \n",
      " 13  median_edu         3140 non-null   object \n",
      " 14  per_capita_income  3140 non-null   float64\n",
      " 15  median_hh_income   3140 non-null   float64\n",
      " 16  smoking_ban        2562 non-null   object \n",
      "dtypes: float64(9), int64(1), object(7)\n",
      "memory usage: 417.4+ KB\n"
     ]
    }
   ],
   "source": [
    "fileDataGit='data/county.xlsx'\n",
    "linkToGitHubData=mainFolderGit+fileDataGit\n",
    "\n",
    "import pandas as pd\n",
    "countiesData = pd.read_excel(linkToGitHubData,converters={'COUNTYNS':str,'GEOID':str})\n",
    "countiesData.info()"
   ]
  },
  {
   "cell_type": "markdown",
   "metadata": {
    "id": "U8Pnux5ZGv4V"
   },
   "source": [
    "Here you have several interesting variables per county:"
   ]
  },
  {
   "cell_type": "code",
   "execution_count": 7,
   "metadata": {
    "colab": {
     "base_uri": "https://localhost:8080/",
     "height": 313
    },
    "id": "l_VUlYIUDis9",
    "outputId": "a109459e-f774-49e3-ce2b-117ef2021185"
   },
   "outputs": [
    {
     "data": {
      "text/html": [
       "<div>\n",
       "<style scoped>\n",
       "    .dataframe tbody tr th:only-of-type {\n",
       "        vertical-align: middle;\n",
       "    }\n",
       "\n",
       "    .dataframe tbody tr th {\n",
       "        vertical-align: top;\n",
       "    }\n",
       "\n",
       "    .dataframe thead th {\n",
       "        text-align: right;\n",
       "    }\n",
       "</style>\n",
       "<table border=\"1\" class=\"dataframe\">\n",
       "  <thead>\n",
       "    <tr style=\"text-align: right;\">\n",
       "      <th></th>\n",
       "      <th>name</th>\n",
       "      <th>state</th>\n",
       "      <th>COUNTYNS</th>\n",
       "      <th>GEOID</th>\n",
       "      <th>pop2000</th>\n",
       "      <th>pop2010</th>\n",
       "      <th>pop2017</th>\n",
       "      <th>pop_change</th>\n",
       "      <th>poverty</th>\n",
       "      <th>homeownership</th>\n",
       "      <th>multi_unit</th>\n",
       "      <th>unemployment_rate</th>\n",
       "      <th>metro</th>\n",
       "      <th>median_edu</th>\n",
       "      <th>per_capita_income</th>\n",
       "      <th>median_hh_income</th>\n",
       "      <th>smoking_ban</th>\n",
       "    </tr>\n",
       "  </thead>\n",
       "  <tbody>\n",
       "    <tr>\n",
       "      <th>0</th>\n",
       "      <td>Autauga County</td>\n",
       "      <td>Alabama</td>\n",
       "      <td>00161526</td>\n",
       "      <td>01001</td>\n",
       "      <td>43671.0</td>\n",
       "      <td>54571</td>\n",
       "      <td>55504.0</td>\n",
       "      <td>1.48</td>\n",
       "      <td>13.7</td>\n",
       "      <td>77.5</td>\n",
       "      <td>7.2</td>\n",
       "      <td>3.86</td>\n",
       "      <td>yes</td>\n",
       "      <td>some_college</td>\n",
       "      <td>27841.70</td>\n",
       "      <td>55317.0</td>\n",
       "      <td>none</td>\n",
       "    </tr>\n",
       "    <tr>\n",
       "      <th>1</th>\n",
       "      <td>Baldwin County</td>\n",
       "      <td>Alabama</td>\n",
       "      <td>00161527</td>\n",
       "      <td>01003</td>\n",
       "      <td>140415.0</td>\n",
       "      <td>182265</td>\n",
       "      <td>212628.0</td>\n",
       "      <td>9.19</td>\n",
       "      <td>11.8</td>\n",
       "      <td>76.7</td>\n",
       "      <td>22.6</td>\n",
       "      <td>3.99</td>\n",
       "      <td>yes</td>\n",
       "      <td>some_college</td>\n",
       "      <td>27779.85</td>\n",
       "      <td>52562.0</td>\n",
       "      <td>none</td>\n",
       "    </tr>\n",
       "    <tr>\n",
       "      <th>2</th>\n",
       "      <td>Barbour County</td>\n",
       "      <td>Alabama</td>\n",
       "      <td>00161528</td>\n",
       "      <td>01005</td>\n",
       "      <td>29038.0</td>\n",
       "      <td>27457</td>\n",
       "      <td>25270.0</td>\n",
       "      <td>-6.22</td>\n",
       "      <td>27.2</td>\n",
       "      <td>68.0</td>\n",
       "      <td>11.1</td>\n",
       "      <td>5.90</td>\n",
       "      <td>no</td>\n",
       "      <td>hs_diploma</td>\n",
       "      <td>17891.73</td>\n",
       "      <td>33368.0</td>\n",
       "      <td>partial</td>\n",
       "    </tr>\n",
       "    <tr>\n",
       "      <th>3</th>\n",
       "      <td>Bibb County</td>\n",
       "      <td>Alabama</td>\n",
       "      <td>00161529</td>\n",
       "      <td>01007</td>\n",
       "      <td>20826.0</td>\n",
       "      <td>22915</td>\n",
       "      <td>22668.0</td>\n",
       "      <td>0.73</td>\n",
       "      <td>15.2</td>\n",
       "      <td>82.9</td>\n",
       "      <td>6.6</td>\n",
       "      <td>4.39</td>\n",
       "      <td>yes</td>\n",
       "      <td>hs_diploma</td>\n",
       "      <td>20572.05</td>\n",
       "      <td>43404.0</td>\n",
       "      <td>none</td>\n",
       "    </tr>\n",
       "    <tr>\n",
       "      <th>4</th>\n",
       "      <td>Blount County</td>\n",
       "      <td>Alabama</td>\n",
       "      <td>00161530</td>\n",
       "      <td>01009</td>\n",
       "      <td>51024.0</td>\n",
       "      <td>57322</td>\n",
       "      <td>58013.0</td>\n",
       "      <td>0.68</td>\n",
       "      <td>15.6</td>\n",
       "      <td>82.0</td>\n",
       "      <td>3.7</td>\n",
       "      <td>4.02</td>\n",
       "      <td>yes</td>\n",
       "      <td>hs_diploma</td>\n",
       "      <td>21367.39</td>\n",
       "      <td>47412.0</td>\n",
       "      <td>none</td>\n",
       "    </tr>\n",
       "  </tbody>\n",
       "</table>\n",
       "</div>"
      ],
      "text/plain": [
       "             name    state  COUNTYNS  GEOID   pop2000  pop2010   pop2017  \\\n",
       "0  Autauga County  Alabama  00161526  01001   43671.0    54571   55504.0   \n",
       "1  Baldwin County  Alabama  00161527  01003  140415.0   182265  212628.0   \n",
       "2  Barbour County  Alabama  00161528  01005   29038.0    27457   25270.0   \n",
       "3     Bibb County  Alabama  00161529  01007   20826.0    22915   22668.0   \n",
       "4   Blount County  Alabama  00161530  01009   51024.0    57322   58013.0   \n",
       "\n",
       "   pop_change  poverty  homeownership  multi_unit  unemployment_rate metro  \\\n",
       "0        1.48     13.7           77.5         7.2               3.86   yes   \n",
       "1        9.19     11.8           76.7        22.6               3.99   yes   \n",
       "2       -6.22     27.2           68.0        11.1               5.90    no   \n",
       "3        0.73     15.2           82.9         6.6               4.39   yes   \n",
       "4        0.68     15.6           82.0         3.7               4.02   yes   \n",
       "\n",
       "     median_edu  per_capita_income  median_hh_income smoking_ban  \n",
       "0  some_college           27841.70           55317.0        none  \n",
       "1  some_college           27779.85           52562.0        none  \n",
       "2    hs_diploma           17891.73           33368.0     partial  \n",
       "3    hs_diploma           20572.05           43404.0        none  \n",
       "4    hs_diploma           21367.39           47412.0        none  "
      ]
     },
     "execution_count": 7,
     "metadata": {},
     "output_type": "execute_result"
    }
   ],
   "source": [
    "# you can visit the original website for details\n",
    "countiesData.head()"
   ]
  },
  {
   "cell_type": "markdown",
   "metadata": {
    "id": "aH6-NZGJHB0k"
   },
   "source": [
    "# 2 Merging MAP and DATA TABLE\n",
    "\n",
    "Notice we have two commmon columns that uniquely identify the counties. Let's use them as composite keys:"
   ]
  },
  {
   "cell_type": "code",
   "execution_count": 8,
   "metadata": {
    "colab": {
     "base_uri": "https://localhost:8080/"
    },
    "id": "-b9GeJd-5K6q",
    "outputId": "cc07da31-52d5-4d5c-87de-6c46529b6f67"
   },
   "outputs": [
    {
     "name": "stdout",
     "output_type": "stream",
     "text": [
      "<class 'geopandas.geodataframe.GeoDataFrame'>\n",
      "RangeIndex: 3142 entries, 0 to 3141\n",
      "Data columns (total 25 columns):\n",
      " #   Column             Non-Null Count  Dtype   \n",
      "---  ------             --------------  -----   \n",
      " 0   STATEFP            3142 non-null   object  \n",
      " 1   COUNTYFP           3142 non-null   object  \n",
      " 2   COUNTYNS           3142 non-null   object  \n",
      " 3   AFFGEOID           3142 non-null   object  \n",
      " 4   GEOID              3142 non-null   object  \n",
      " 5   NAME               3142 non-null   object  \n",
      " 6   LSAD               3142 non-null   object  \n",
      " 7   ALAND              3142 non-null   int64   \n",
      " 8   AWATER             3142 non-null   int64   \n",
      " 9   geometry           3142 non-null   geometry\n",
      " 10  name               3142 non-null   object  \n",
      " 11  state              3142 non-null   object  \n",
      " 12  pop2000            3139 non-null   float64 \n",
      " 13  pop2010            3142 non-null   int64   \n",
      " 14  pop2017            3139 non-null   float64 \n",
      " 15  pop_change         3139 non-null   float64 \n",
      " 16  poverty            3140 non-null   float64 \n",
      " 17  homeownership      3142 non-null   float64 \n",
      " 18  multi_unit         3142 non-null   float64 \n",
      " 19  unemployment_rate  3139 non-null   float64 \n",
      " 20  metro              3139 non-null   object  \n",
      " 21  median_edu         3140 non-null   object  \n",
      " 22  per_capita_income  3140 non-null   float64 \n",
      " 23  median_hh_income   3140 non-null   float64 \n",
      " 24  smoking_ban        2562 non-null   object  \n",
      "dtypes: float64(9), geometry(1), int64(3), object(12)\n",
      "memory usage: 613.8+ KB\n"
     ]
    }
   ],
   "source": [
    "countiesMapData=countiesMap.merge(countiesData, on=['COUNTYNS','GEOID'])\n",
    "countiesMapData.info()"
   ]
  },
  {
   "cell_type": "markdown",
   "metadata": {
    "id": "0JjkHCOcHZGg"
   },
   "source": [
    "# 3 The DATA that we need\n",
    "\n",
    "Fir this homework, you will analyze the counties in the New England area:"
   ]
  },
  {
   "cell_type": "code",
   "execution_count": 9,
   "metadata": {
    "colab": {
     "base_uri": "https://localhost:8080/",
     "height": 423
    },
    "id": "KXoiTrEMOi1P",
    "outputId": "83a8a8d0-13ca-446f-cfdc-636bd20ca88b"
   },
   "outputs": [
    {
     "data": {
      "text/html": [
       "<div>\n",
       "<style scoped>\n",
       "    .dataframe tbody tr th:only-of-type {\n",
       "        vertical-align: middle;\n",
       "    }\n",
       "\n",
       "    .dataframe tbody tr th {\n",
       "        vertical-align: top;\n",
       "    }\n",
       "\n",
       "    .dataframe thead th {\n",
       "        text-align: right;\n",
       "    }\n",
       "</style>\n",
       "<table border=\"1\" class=\"dataframe\">\n",
       "  <thead>\n",
       "    <tr style=\"text-align: right;\">\n",
       "      <th></th>\n",
       "      <th>NAME</th>\n",
       "      <th>state</th>\n",
       "    </tr>\n",
       "  </thead>\n",
       "  <tbody>\n",
       "    <tr>\n",
       "      <th>0</th>\n",
       "      <td>San Francisco</td>\n",
       "      <td>California</td>\n",
       "    </tr>\n",
       "    <tr>\n",
       "      <th>1</th>\n",
       "      <td>Suffolk</td>\n",
       "      <td>Massachusetts</td>\n",
       "    </tr>\n",
       "    <tr>\n",
       "      <th>2</th>\n",
       "      <td>Banner</td>\n",
       "      <td>Nebraska</td>\n",
       "    </tr>\n",
       "    <tr>\n",
       "      <th>3</th>\n",
       "      <td>Vance</td>\n",
       "      <td>North Carolina</td>\n",
       "    </tr>\n",
       "    <tr>\n",
       "      <th>4</th>\n",
       "      <td>Sherman</td>\n",
       "      <td>Texas</td>\n",
       "    </tr>\n",
       "    <tr>\n",
       "      <th>...</th>\n",
       "      <td>...</td>\n",
       "      <td>...</td>\n",
       "    </tr>\n",
       "    <tr>\n",
       "      <th>3137</th>\n",
       "      <td>Douglas</td>\n",
       "      <td>Nevada</td>\n",
       "    </tr>\n",
       "    <tr>\n",
       "      <th>3138</th>\n",
       "      <td>Pike</td>\n",
       "      <td>Missouri</td>\n",
       "    </tr>\n",
       "    <tr>\n",
       "      <th>3139</th>\n",
       "      <td>Hamilton</td>\n",
       "      <td>Iowa</td>\n",
       "    </tr>\n",
       "    <tr>\n",
       "      <th>3140</th>\n",
       "      <td>Carroll</td>\n",
       "      <td>Iowa</td>\n",
       "    </tr>\n",
       "    <tr>\n",
       "      <th>3141</th>\n",
       "      <td>Columbia</td>\n",
       "      <td>Georgia</td>\n",
       "    </tr>\n",
       "  </tbody>\n",
       "</table>\n",
       "<p>3142 rows × 2 columns</p>\n",
       "</div>"
      ],
      "text/plain": [
       "               NAME           state\n",
       "0     San Francisco      California\n",
       "1           Suffolk   Massachusetts\n",
       "2            Banner        Nebraska\n",
       "3             Vance  North Carolina\n",
       "4           Sherman           Texas\n",
       "...             ...             ...\n",
       "3137        Douglas          Nevada\n",
       "3138           Pike        Missouri\n",
       "3139       Hamilton            Iowa\n",
       "3140        Carroll            Iowa\n",
       "3141       Columbia         Georgia\n",
       "\n",
       "[3142 rows x 2 columns]"
      ]
     },
     "execution_count": 9,
     "metadata": {},
     "output_type": "execute_result"
    }
   ],
   "source": [
    "# columns of interest\n",
    "# NAME is county name\n",
    "countiesMapData.loc[:,['NAME','state']]"
   ]
  },
  {
   "cell_type": "markdown",
   "metadata": {
    "id": "G_sqzRGAIQBz"
   },
   "source": [
    "Then, we need to keep only the counties in that area:"
   ]
  },
  {
   "cell_type": "code",
   "execution_count": 10,
   "metadata": {
    "colab": {
     "base_uri": "https://localhost:8080/",
     "height": 272
    },
    "id": "D87dcx-jQiiO",
    "outputId": "ab7369bb-8c80-4eed-dffe-fc5955d9a338"
   },
   "outputs": [
    {
     "data": {
      "text/plain": [
       "state\n",
       "Maine            16\n",
       "Massachusetts    14\n",
       "New Hampshire    10\n",
       "Connecticut       8\n",
       "Rhode Island      5\n",
       "Name: count, dtype: int64"
      ]
     },
     "execution_count": 10,
     "metadata": {},
     "output_type": "execute_result"
    }
   ],
   "source": [
    "# list of NewEngland states\n",
    "NEng_list=['Connecticut', 'Maine', 'Massachusetts', 'New Hampshire', 'Rhode Island']\n",
    "\n",
    "# keeping rows (counties) in New England\n",
    "countiesMapData_NEng=countiesMapData[countiesMapData.state.isin(NEng_list)]\n",
    "\n",
    "# resetting the row index\n",
    "countiesMapData_NEng.reset_index(inplace=True)\n",
    "\n",
    "# county count\n",
    "countiesMapData_NEng.state.value_counts()"
   ]
  },
  {
   "cell_type": "markdown",
   "metadata": {
    "id": "5VWewk5c8gev"
   },
   "source": [
    "These are the counties:"
   ]
  },
  {
   "cell_type": "code",
   "execution_count": 11,
   "metadata": {
    "colab": {
     "base_uri": "https://localhost:8080/",
     "height": 693
    },
    "id": "CAslFCp1PZLD",
    "outputId": "484ab59d-c76e-4729-f765-df3e406dc0a4"
   },
   "outputs": [
    {
     "data": {
      "text/plain": [
       "<Axes: >"
      ]
     },
     "execution_count": 11,
     "metadata": {},
     "output_type": "execute_result"
    },
    {
     "data": {
      "image/png": "[encoded data removed]",
      "text/plain": [
       "<Figure size 800x800 with 1 Axes>"
      ]
     },
     "metadata": {},
     "output_type": "display_data"
    }
   ],
   "source": [
    "countiesMapData_NEng.plot(column='state',edgecolor='black',figsize=(8,8))"
   ]
  },
  {
   "cell_type": "markdown",
   "metadata": {
    "id": "RnEuKhT8OdOy"
   },
   "source": [
    "Please install this before proceeding to exercises:"
   ]
  },
  {
   "cell_type": "code",
   "execution_count": 21,
   "metadata": {
    "id": "O---FYSmPfM3"
   },
   "outputs": [],
   "source": [
    "# !pip install folium pysal"
   ]
  },
  {
   "cell_type": "markdown",
   "metadata": {
    "id": "Fw8W4-ZjRa2p"
   },
   "source": [
    "# 4 Exercises"
   ]
  },
  {
   "cell_type": "markdown",
   "metadata": {
    "id": "ziyLqNRlRhCP"
   },
   "source": [
    "1. Does the distribution of the variable '*unemployment_rate*' in New England States is affected by the proximity of the closest six counties?\n",
    "\n",
    "**Change the code below to get the answer**:\n",
    "\n",
    "_copy this code and paste it in another cell where you make the changes needed_\n",
    "\n",
    "```\n",
    "from libpysal.weights import KNN\n",
    "\n",
    "w_knn8 = KNN.from_dataframe(peru_hdi_map, k=8)\n",
    "\n",
    "w_queen.transform = 'R'\n",
    "\n",
    "moranHDI = Moran(y=peru_hdi_map['hdi'],\n",
    "                 w=w_knn8)\n",
    "\n",
    "# results\n",
    "moranHDI.I, moranHDI.p_sim\n",
    "```\n",
    "\n"
   ]
  },
  {
   "cell_type": "code",
   "execution_count": null,
   "metadata": {},
   "outputs": [
    {
     "name": "stdout",
     "output_type": "stream",
     "text": [
      "Moran's I: 0.6272388089949718 p-value: 0.001\n"
     ]
    }
   ],
   "source": [
    "from libpysal.weights import KNN\n",
    "from esda.moran import Moran\n",
    "\n",
    "#create matrix using KNN with k=6 \n",
    "w_knn6 = KNN.from_dataframe(countiesMapData_NEng, k=6)\n",
    "w_knn6.transform = 'R'\n",
    "\n",
    "#compute and print Moran's I for unemployment rate\n",
    "moranUnemployment = Moran(countiesMapData_NEng['unemployment_rate'], w_knn6)\n",
    "print(\"Moran's I:\", moranUnemployment.I, \"p-value:\", moranUnemployment.p_sim)"
   ]
  },
  {
   "cell_type": "markdown",
   "metadata": {
    "id": "ZvhDiUHdtECa"
   },
   "source": [
    "2. If you find that the relationship is significant, compute the columns with the quadrants.\n",
    "\n",
    "**Change this code to achieve that**:\n",
    "\n",
    "```\n",
    "#libraries needed (from pysal)\n",
    "from esda.moran import Moran_Local\n",
    "\n",
    "#you get LISA for HDI\n",
    "lisa_HDI = Moran_Local(y=peru_hdi_map['hdi'],\n",
    "                       w=w_knn8,\n",
    "                       seed=2022)\n",
    "#ResultLISA holds the results\n",
    "ResultLISA=pd.DataFrame({'lisa_Qlabel':lisa_HDI.q, 'lisa_Qsig':lisa_HDI.p_sim})\n",
    "\n",
    "#you recode the quadrant to label the non-significant cases.\n",
    "peru_hdi_map.loc[:,'HDI_quadrant']=[q if p <0.05 else 0 for q,p in zip(ResultLISA.lisa_Qlabel,ResultLISA.lisa_Qsig)  ]\n",
    "\n",
    "# labels are currently numbers 0-4, now rename with text\n",
    "\n",
    "newLabels = {0: '0_NoSig',1: '1_HotSpot',2: '2_ColdOutlier',3: '3_ColdSpot',4: '4_HotOutlier'}\n",
    "peru_hdi_map.replace({'HDI_quadrant':newLabels},inplace=True)\n",
    "```\n",
    "\n",
    "\n"
   ]
  },
  {
   "cell_type": "code",
   "execution_count": null,
   "metadata": {},
   "outputs": [
    {
     "name": "stdout",
     "output_type": "stream",
     "text": [
      "LISA computation completed. Clusters assigned.\n"
     ]
    },
    {
     "name": "stderr",
     "output_type": "stream",
     "text": [
      "/var/folders/1h/nkkd351574v1ggbl6p4m9sqw0000gn/T/ipykernel_87005/1948365192.py:13: SettingWithCopyWarning: \n",
      "A value is trying to be set on a copy of a slice from a DataFrame.\n",
      "Try using .loc[row_indexer,col_indexer] = value instead\n",
      "\n",
      "See the caveats in the documentation: https://pandas.pydata.org/pandas-docs/stable/user_guide/indexing.html#returning-a-view-versus-a-copy\n",
      "  countiesMapData_NEng.replace({'unemployment_quadrant': newLabels}, inplace=True)\n"
     ]
    }
   ],
   "source": [
    "from esda.moran import Moran_Local\n",
    "\n",
    "if moranUnemployment.p_sim < 0.05:\n",
    "    #calculate and store LISA statistics\n",
    "    lisa_unemployment = Moran_Local(countiesMapData_NEng['unemployment_rate'], w_knn6, seed=2022)\n",
    "    ResultLISA = pd.DataFrame({'lisa_Qlabel': lisa_unemployment.q, 'lisa_Qsig': lisa_unemployment.p_sim})\n",
    "\n",
    "    #label each quadrant\n",
    "    unemployment_quadrant = []\n",
    "    i = 0\n",
    "    while i < len(ResultLISA):\n",
    "        if ResultLISA.lisa_Qsig[i] < 0.05:\n",
    "            unemployment_quadrant.append(ResultLISA.lisa_Qlabel[i])\n",
    "        else:\n",
    "            unemployment_quadrant.append(0)\n",
    "        i += 1\n",
    "    \n",
    "    countiesMapData_NEng['unemployment_quadrant'] = unemployment_quadrant\n",
    "    #rename quadrants \n",
    "    newLabels = {0: '0_NoSig', 1: '1_HotSpot', 2: '2_ColdOutlier', 3: '3_ColdSpot', 4: '4_HotOutlier'}\n",
    "    countiesMapData_NEng.replace({'unemployment_quadrant': newLabels}, inplace=True)\n",
    "\n",
    "    #print\n",
    "    print(\"LISA computation completed. Clusters assigned.\")\n",
    "else:\n",
    "    print(\"Moran's I is not significant. No spatial clustering detected.\")"
   ]
  },
  {
   "cell_type": "markdown",
   "metadata": {
    "id": "AD0bJFHpEMcY"
   },
   "source": [
    "3. What are the **minimum and maximum** values of unemployment per quadrant ?\n",
    "\n",
    "\n",
    "\n",
    "```\n",
    "# Change this code\n",
    "peru_hdi_map.groupby('HDI_quadrant').agg({'hdi': ['mean','median']})\n",
    "```\n",
    "\n"
   ]
  },
  {
   "cell_type": "code",
   "execution_count": 35,
   "metadata": {},
   "outputs": [
    {
     "name": "stdout",
     "output_type": "stream",
     "text": [
      "                      unemployment_rate      \n",
      "                                    min   max\n",
      "unemployment_quadrant                        \n",
      "0_NoSig                            3.05  5.03\n",
      "1_HotSpot                          4.00  5.03\n",
      "2_ColdOutlier                      3.71  3.71\n",
      "3_ColdSpot                         2.18  3.43\n",
      "4_HotOutlier                       3.77  3.78\n"
     ]
    }
   ],
   "source": [
    "import pandas as pd\n",
    "\n",
    "#calculate min and max unemployment rate per quadrant\n",
    "unemployment_stats = countiesMapData_NEng.groupby('unemployment_quadrant').agg({'unemployment_rate': ['min', 'max']})\n",
    "print(unemployment_stats)"
   ]
  },
  {
   "cell_type": "markdown",
   "metadata": {
    "id": "QIN51w2z0Z3u"
   },
   "source": [
    "4. **What state** has the *best* situation in unemployement at the county level?\n",
    "\n",
    "TIP: use pd.crosstab()"
   ]
  },
  {
   "cell_type": "code",
   "execution_count": 36,
   "metadata": {},
   "outputs": [
    {
     "name": "stdout",
     "output_type": "stream",
     "text": [
      "State with the best unemployment situation:\n",
      "col_0          Unemployment_Min\n",
      "state                          \n",
      "New Hampshire              2.18\n"
     ]
    }
   ],
   "source": [
    "#find state with the lowest unemployment rate by county\n",
    "best_state = pd.crosstab(index=countiesMapData_NEng['state'], columns='Unemployment_Min', values=countiesMapData_NEng['unemployment_rate'], aggfunc='min')\n",
    "\n",
    "#print\n",
    "best_state = best_state.sort_values(by='Unemployment_Min').head(1)\n",
    "print(\"State with the best unemployment situation:\")\n",
    "print(best_state)"
   ]
  },
  {
   "cell_type": "markdown",
   "metadata": {
    "id": "483feySz2jFz"
   },
   "source": [
    "Send me the link to this notebook if you want pregrading (share link via email)."
   ]
  }
 ],
 "metadata": {
  "colab": {
   "provenance": []
  },
  "kernelspec": {
   "display_name": "geo-env",
   "language": "python",
   "name": "python3"
  },
  "language_info": {
   "codemirror_mode": {
    "name": "ipython",
    "version": 3
   },
   "file_extension": ".py",
   "mimetype": "text/x-python",
   "name": "python",
   "nbconvert_exporter": "python",
   "pygments_lexer": "ipython3",
   "version": "3.11.11"
  }
 },
 "nbformat": 4,
 "nbformat_minor": 4
}
